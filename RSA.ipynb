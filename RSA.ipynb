{
 "cells": [
  {
   "cell_type": "markdown",
   "id": "dc61a901",
   "metadata": {},
   "source": [
    "# RSA Encryption\n",
    "By: Jonathan Oliveros"
   ]
  },
  {
   "cell_type": "markdown",
   "id": "4d0ac19e",
   "metadata": {},
   "source": [
    "The usefulness of the Rivest-Shamir-Adleman (RSA) encryption system is tremendous, since all of what is being sent back and forth through the internet depends on it. The problem is as follows: if someone wants to send a message publicly, how can we make sure that only the one that the message is intended for can see it? The RSA is (as far as we know) creates a hard to invert one way function that can only be solved if the recipient has the key. This notebook was created to show the steps on how it works."
   ]
  },
  {
   "cell_type": "markdown",
   "id": "c5dbd2bb",
   "metadata": {},
   "source": [
    "I will be using the steps for encrypting and decrypting the message from this site:\n",
    "\n",
    "https://courses.cs.vt.edu/~cs5204/fall00/protection/rsa.html"
   ]
  },
  {
   "cell_type": "markdown",
   "id": "ff7f8f0c",
   "metadata": {},
   "source": [
    "Before getting started, lets import the required packages that will be used."
   ]
  },
  {
   "cell_type": "code",
   "execution_count": 1,
   "id": "c032b504",
   "metadata": {},
   "outputs": [],
   "source": [
    "from IPython.display import Markdown as md\n",
    "import math"
   ]
  },
  {
   "cell_type": "markdown",
   "id": "5ee7b8ae",
   "metadata": {},
   "source": [
    "## 1. Represent the message as an integer between 0 and (n-1). Large messages can be broken up into a number of blocks. Each block would then be represented by an integer in the same range. "
   ]
  },
  {
   "cell_type": "markdown",
   "id": "d7e4efe0",
   "metadata": {},
   "source": [
    "I decided to use the conversion to ASCII for simplicity's sake. chr() converts an int to its ASCII representation and ord() converts the ASCII character to an integer."
   ]
  },
  {
   "cell_type": "code",
   "execution_count": 2,
   "id": "4e03c4f8",
   "metadata": {},
   "outputs": [
    {
     "name": "stdout",
     "output_type": "stream",
     "text": [
      "{'A': 65, 'B': 66, 'C': 67, 'D': 68, 'E': 69, 'F': 70, 'G': 71, 'H': 72, 'I': 73, 'J': 74, 'K': 75, 'L': 76, 'M': 77, 'N': 78, 'O': 79, 'P': 80, 'Q': 81, 'R': 82, 'S': 83, 'T': 84, 'U': 85, 'V': 86, 'W': 87, 'X': 88, 'Y': 89, 'Z': 90}\n"
     ]
    }
   ],
   "source": [
    "alphanum = {}\n",
    "\n",
    "for i in range(65,91):\n",
    "    alphanum[chr(i)] = i\n",
    "print(alphanum)"
   ]
  },
  {
   "cell_type": "code",
   "execution_count": 3,
   "id": "3c45b1fb",
   "metadata": {},
   "outputs": [
    {
     "name": "stdout",
     "output_type": "stream",
     "text": [
      "['6985', '6776', '7368']\n"
     ]
    }
   ],
   "source": [
    "code = 'EUCLID'\n",
    "code = code.upper()\n",
    "cipher = []\n",
    "#loop in pairs of 2 from 0 to length of word. if word has odd length, then append last letter.\n",
    "for i in range(1,len(code),2):\n",
    "    first = ord(code[i - 1])\n",
    "    second = ord(code[i])\n",
    "    cipher.append(str(first) + str(second))\n",
    "if len(code) % 2 != 0:\n",
    "    cipher.append(str(ord(code[len(code) - 1])))\n",
    "print(cipher)"
   ]
  },
  {
   "cell_type": "markdown",
   "id": "40a1872b",
   "metadata": {},
   "source": [
    "Now that the word has been converted, lets clear it out to show that it is not printing out the result from the input "
   ]
  },
  {
   "cell_type": "code",
   "execution_count": 4,
   "id": "b8c8134b",
   "metadata": {
    "scrolled": true
   },
   "outputs": [
    {
     "name": "stdout",
     "output_type": "stream",
     "text": [
      "\n"
     ]
    }
   ],
   "source": [
    "code = ''\n",
    "print(code)"
   ]
  },
  {
   "cell_type": "markdown",
   "id": "7aa665c2",
   "metadata": {},
   "source": [
    "## Useful Methods"
   ]
  },
  {
   "cell_type": "markdown",
   "id": "1de6be32",
   "metadata": {},
   "source": [
    "The following two methods are part of what's called the successive algorithm. This will be useful in computing really large numbers mod n. A comparison chart on its efficiency can be found here https://github.com/JonathanOliveros/successive-squares"
   ]
  },
  {
   "cell_type": "code",
   "execution_count": 5,
   "id": "a02e6714",
   "metadata": {},
   "outputs": [],
   "source": [
    "def convert_db(decimal):\n",
    "        \"\"\"\n",
    "        Converts a decimal number to a binary number.\n",
    "        \"\"\"\n",
    "        lst = []\n",
    "        num = decimal\n",
    "        while num > 0:\n",
    "            lst.append(num % 2) # add remainder to binary digit\n",
    "            num = math.floor(num / 2) # divide by 2 for next iteration\n",
    "        lst.reverse() #reverse list to put binary number in correct order\n",
    "        return lst\n",
    "\n",
    "def get_mod(base, exp, m):\n",
    "        \"\"\"\n",
    "        Uses the successive squares algorithm to reduce very large integers\n",
    "        mod m.\n",
    "\n",
    "        returns:\n",
    "\n",
    "        reduced number mod m\n",
    "        \"\"\"\n",
    "        \n",
    "        binary_num = convert_db(exp)\n",
    "        num_lst = [] # create a list that holds (base**(2**i)) mod m \n",
    "        result = 1\n",
    "        num_lst.append(base)# add base number to list since 2**0 == 1\n",
    "        for i in range(1,len(binary_num)): # start i at 1 to get rest of the list.\n",
    "            num_lst.append((num_lst[i - 1]**2 % m)) # square the result of the previous number on list and mod m\n",
    "        num_lst.reverse() # reverse list to match up with binary number list order\n",
    "        for j in range(0, len(binary_num)):\n",
    "            if binary_num[j] == 1: #the 1's and 0's are flags to see if the index in num_lst can be multiplied to result \n",
    "                result *= num_lst[j]\n",
    "        return result % m # the result is easier to reduce mod m and is congruent to original number\n"
   ]
  },
  {
   "cell_type": "code",
   "execution_count": 6,
   "id": "25aabb3d",
   "metadata": {},
   "outputs": [],
   "source": [
    "def gcd(a, b):\n",
    "    while a != 0:\n",
    "        q, r = b//a, b%a\n",
    "        b, a = a, r\n",
    "    gcd = b\n",
    "    return gcd"
   ]
  },
  {
   "cell_type": "code",
   "execution_count": 7,
   "id": "47ae6c5a",
   "metadata": {},
   "outputs": [],
   "source": [
    "def egcd(a, b):\n",
    "    x,y, u,v = 0,1, 1,0\n",
    "    while a != 0:\n",
    "        q, r = b//a, b%a\n",
    "        m, n = x-u*q, y-v*q\n",
    "        b,a, x,y, u,v = a,r, u,v, m,n\n",
    "    gcd = b\n",
    "    return gcd, x, y"
   ]
  },
  {
   "cell_type": "markdown",
   "id": "23fb5e20",
   "metadata": {},
   "source": [
    "The extended Euclidian Algorithm comes from:\n",
    "\n",
    "https://brilliant.org/wiki/extended-euclidean-algorithm/\n",
    "\n",
    "This algorithm takes the gcd and solves the equation $ax + by = gcd(a,b)$, which is called Bezout's Identity. More information can be found here:\n",
    "\n",
    "https://en.wikipedia.org/wiki/B%C3%A9zout%27s_identity\n",
    "\n",
    "the gcd method above is only uses the euclidian algorithm part of the egcd method."
   ]
  },
  {
   "cell_type": "markdown",
   "id": "d3efe6d2",
   "metadata": {},
   "source": [
    "## How to Determine Appropriate Values for e, d, and n\n",
    "\n",
    "1. Choose two very large (100+ digit) prime numbers. Denote these numbers as p and q.\n",
    "Set n equal to p * q.\n",
    "2. Choose any large integer, d, such that GCD($d, ((p-1) * (q-1))) = 1$ (For readability's sake let $\\phi = (p-1)*(q-1)$)\n",
    "3. Find e such that e * d $\\equiv$ 1 (mod ((p-1) * (q-1))) "
   ]
  },
  {
   "cell_type": "code",
   "execution_count": 8,
   "id": "d639a6d4",
   "metadata": {},
   "outputs": [],
   "source": [
    "#choose two primes\n",
    "p = 7097693\n",
    "\n",
    "q = 7098937\n",
    "# choose d\n",
    "d = 7154999"
   ]
  },
  {
   "cell_type": "markdown",
   "id": "e3af04dd",
   "metadata": {},
   "source": [
    "(Notice that d is a prime as well. This was chosen intentionally because for any integer a, gcd(a,d) will always be 1 due to the nature of primes itself.)"
   ]
  },
  {
   "cell_type": "code",
   "execution_count": 9,
   "id": "f6861797",
   "metadata": {},
   "outputs": [
    {
     "name": "stdout",
     "output_type": "stream",
     "text": [
      "1\n"
     ]
    }
   ],
   "source": [
    "n = p * q\n",
    "phi = (p-1) * (q-1)\n",
    "\n",
    "#check that GCD(phi, d) = 1\n",
    "print(gcd(d, phi))"
   ]
  },
  {
   "cell_type": "code",
   "execution_count": 10,
   "id": "6d9147e7",
   "metadata": {},
   "outputs": [
    {
     "name": "stdout",
     "output_type": "stream",
     "text": [
      "(1, 658753, -4638990027865)\n"
     ]
    }
   ],
   "source": [
    "Bezout = egcd(phi,d)\n",
    "print(Bezout)"
   ]
  },
  {
   "cell_type": "code",
   "execution_count": 11,
   "id": "c81bcc9b",
   "metadata": {},
   "outputs": [
    {
     "data": {
      "text/markdown": [
       "By Bezout's Identity, this means that 658753 $\\cdot$ 50386061255712 + -4638990027865 $\\cdot$ 7154999 = 1"
      ],
      "text/plain": [
       "<IPython.core.display.Markdown object>"
      ]
     },
     "execution_count": 11,
     "metadata": {},
     "output_type": "execute_result"
    }
   ],
   "source": [
    "md(f\"\"\"By Bezout's Identity, this means that {Bezout[1]} $\\cdot$ {phi} + {Bezout[2]} $\\cdot$ {d} = {Bezout[0]}\"\"\")"
   ]
  },
  {
   "cell_type": "code",
   "execution_count": 12,
   "id": "93df0838",
   "metadata": {},
   "outputs": [
    {
     "data": {
      "text/markdown": [
       "Therefore e = -4638990027865 and is the inverse coefficient that solves\n",
       "   $$\n",
       "    -4638990027865 * 7154999 \\equiv 1 \\ mod \\ 50386061255712\n",
       "   $$"
      ],
      "text/plain": [
       "<IPython.core.display.Markdown object>"
      ]
     },
     "execution_count": 12,
     "metadata": {},
     "output_type": "execute_result"
    }
   ],
   "source": [
    "md(f\"\"\"Therefore e = {Bezout[2]} and is the inverse coefficient that solves\n",
    "   $$\n",
    "    {Bezout[2]} * {d} \\equiv {Bezout[0]} \\ mod \\ {phi}\n",
    "   $$\"\"\")"
   ]
  },
  {
   "cell_type": "markdown",
   "id": "2465bb92",
   "metadata": {},
   "source": [
    "## 2. Encrypt the message by raising it to the $e^{th}$ power modulo n. The result is a ciphertext message C. "
   ]
  },
  {
   "cell_type": "code",
   "execution_count": 13,
   "id": "07945d6c",
   "metadata": {
    "scrolled": true
   },
   "outputs": [
    {
     "name": "stdout",
     "output_type": "stream",
     "text": [
      "45747071227847\n"
     ]
    }
   ],
   "source": [
    "#mod e by phi to make sure number is positive\n",
    "e = Bezout[2] % phi\n",
    "print(e)"
   ]
  },
  {
   "cell_type": "code",
   "execution_count": 14,
   "id": "ec377373",
   "metadata": {},
   "outputs": [
    {
     "name": "stdout",
     "output_type": "stream",
     "text": [
      "[25636130755670, 31991081607741, 45749641709595]\n"
     ]
    }
   ],
   "source": [
    "C = []\n",
    "for i in cipher:\n",
    "    C.append(get_mod(int(i), e, n))\n",
    "print(C)"
   ]
  },
  {
   "cell_type": "markdown",
   "id": "34f9e1ba",
   "metadata": {},
   "source": [
    "## 3. To decrypt ciphertext message C, raise it to another power d modulo n"
   ]
  },
  {
   "cell_type": "code",
   "execution_count": 15,
   "id": "f6eac9bf",
   "metadata": {},
   "outputs": [
    {
     "name": "stdout",
     "output_type": "stream",
     "text": [
      "['6985', '6776', '7368']\n"
     ]
    }
   ],
   "source": [
    "decrypted = []\n",
    "for i in C:\n",
    "    decrypted.append(str(get_mod(i, d, n)))\n",
    "print(decrypted)"
   ]
  },
  {
   "cell_type": "markdown",
   "id": "27bf10eb",
   "metadata": {},
   "source": [
    "Comparing to the original cipher:"
   ]
  },
  {
   "cell_type": "code",
   "execution_count": 16,
   "id": "55c9d4e7",
   "metadata": {
    "scrolled": true
   },
   "outputs": [
    {
     "name": "stdout",
     "output_type": "stream",
     "text": [
      "['6985', '6776', '7368']\n"
     ]
    }
   ],
   "source": [
    "print(cipher)"
   ]
  },
  {
   "cell_type": "markdown",
   "id": "37ac0e73",
   "metadata": {},
   "source": [
    "From this we can see that they are equivalent and the by decrypting the cipher we get the original encoded word."
   ]
  },
  {
   "cell_type": "code",
   "execution_count": 17,
   "id": "a1b4388a",
   "metadata": {},
   "outputs": [
    {
     "name": "stdout",
     "output_type": "stream",
     "text": [
      "EUCLID\n"
     ]
    }
   ],
   "source": [
    "split = 2\n",
    "result = \"\"\n",
    "for i in decrypted:\n",
    "    if len(i) == 2:\n",
    "        result += chr(int(i))\n",
    "    else:\n",
    "        a, b = int(i[:split]), int(i[split:])\n",
    "        result += chr(a) + chr(b)\n",
    "print(result)"
   ]
  }
 ],
 "metadata": {
  "kernelspec": {
   "display_name": "Python 3 (ipykernel)",
   "language": "python",
   "name": "python3"
  },
  "language_info": {
   "codemirror_mode": {
    "name": "ipython",
    "version": 3
   },
   "file_extension": ".py",
   "mimetype": "text/x-python",
   "name": "python",
   "nbconvert_exporter": "python",
   "pygments_lexer": "ipython3",
   "version": "3.8.10"
  }
 },
 "nbformat": 4,
 "nbformat_minor": 5
}
